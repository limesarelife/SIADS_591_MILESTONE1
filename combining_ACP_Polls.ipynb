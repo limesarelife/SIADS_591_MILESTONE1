{
 "cells": [
  {
   "cell_type": "code",
   "execution_count": 1,
   "id": "4410fc93",
   "metadata": {},
   "outputs": [],
   "source": [
    "import pandas as pd\n"
   ]
  },
  {
   "cell_type": "code",
   "execution_count": 2,
   "id": "326892db",
   "metadata": {},
   "outputs": [],
   "source": [
    "#%pip install openpyxl"
   ]
  },
  {
   "cell_type": "markdown",
   "id": "f6c13345",
   "metadata": {},
   "source": [
    "There are different file formats in the 2020 files so I am going to read each one in by itself with for loop and just pull the Villagers and Tally columns since that is all we need and then combine the 2021 and 2020 data sets into one total dataframe to link to the Villagers.csv and attach the ACP_Poll_Votes aka \"Tally\".  We might need to clean some names.  "
   ]
  },
  {
   "cell_type": "code",
   "execution_count": 3,
   "id": "20e3e86f",
   "metadata": {},
   "outputs": [],
   "source": [
    "#just trying out and seeing/checking that the villagers and tally columns are there\n",
    "acpJune20 = pd.read_excel('PollResults/2020/ACP - June 2020 Poll Final Vote Count.xlsx', sheet_name = 'Sheet1')"
   ]
  },
  {
   "cell_type": "code",
   "execution_count": 4,
   "id": "1d35a160",
   "metadata": {},
   "outputs": [
    {
     "data": {
      "text/html": [
       "<div>\n",
       "<style scoped>\n",
       "    .dataframe tbody tr th:only-of-type {\n",
       "        vertical-align: middle;\n",
       "    }\n",
       "\n",
       "    .dataframe tbody tr th {\n",
       "        vertical-align: top;\n",
       "    }\n",
       "\n",
       "    .dataframe thead th {\n",
       "        text-align: right;\n",
       "    }\n",
       "</style>\n",
       "<table border=\"1\" class=\"dataframe\">\n",
       "  <thead>\n",
       "    <tr style=\"text-align: right;\">\n",
       "      <th></th>\n",
       "      <th>Timestamp</th>\n",
       "      <th>1st Vote</th>\n",
       "      <th>2nd Vote</th>\n",
       "      <th>3rd Vote</th>\n",
       "      <th>Unnamed: 4</th>\n",
       "      <th>Villagers</th>\n",
       "      <th>Tally</th>\n",
       "      <th>Unnamed: 7</th>\n",
       "      <th>Comment</th>\n",
       "    </tr>\n",
       "  </thead>\n",
       "  <tbody>\n",
       "    <tr>\n",
       "      <th>0</th>\n",
       "      <td>2020-06-01 00:03:19.000</td>\n",
       "      <td>Poppy</td>\n",
       "      <td>Raymond</td>\n",
       "      <td>Bunnie</td>\n",
       "      <td>NaN</td>\n",
       "      <td>Marshal</td>\n",
       "      <td>6044.0</td>\n",
       "      <td>NaN</td>\n",
       "      <td>If a villager has the same votes, they're rank...</td>\n",
       "    </tr>\n",
       "    <tr>\n",
       "      <th>1</th>\n",
       "      <td>2020-06-01 00:08:45.000</td>\n",
       "      <td>Wade</td>\n",
       "      <td>Dom</td>\n",
       "      <td>Gala</td>\n",
       "      <td>NaN</td>\n",
       "      <td>Raymond</td>\n",
       "      <td>5656.0</td>\n",
       "      <td>NaN</td>\n",
       "      <td>NaN</td>\n",
       "    </tr>\n",
       "    <tr>\n",
       "      <th>2</th>\n",
       "      <td>2020-06-01 00:09:26.000</td>\n",
       "      <td>Wolfgang</td>\n",
       "      <td>Dobie</td>\n",
       "      <td>Drago</td>\n",
       "      <td>NaN</td>\n",
       "      <td>Sherb</td>\n",
       "      <td>3374.0</td>\n",
       "      <td>NaN</td>\n",
       "      <td>NaN</td>\n",
       "    </tr>\n",
       "    <tr>\n",
       "      <th>3</th>\n",
       "      <td>2020-06-01 00:10:21.655</td>\n",
       "      <td>Bianca</td>\n",
       "      <td>Freckles</td>\n",
       "      <td>Pango</td>\n",
       "      <td>NaN</td>\n",
       "      <td>Zucker</td>\n",
       "      <td>3079.0</td>\n",
       "      <td>NaN</td>\n",
       "      <td>NaN</td>\n",
       "    </tr>\n",
       "    <tr>\n",
       "      <th>4</th>\n",
       "      <td>2020-06-01 00:10:58.205</td>\n",
       "      <td>Kitty</td>\n",
       "      <td>Pecan</td>\n",
       "      <td>Poppy</td>\n",
       "      <td>NaN</td>\n",
       "      <td>Judy</td>\n",
       "      <td>2696.0</td>\n",
       "      <td>NaN</td>\n",
       "      <td>NaN</td>\n",
       "    </tr>\n",
       "  </tbody>\n",
       "</table>\n",
       "</div>"
      ],
      "text/plain": [
       "                Timestamp  1st Vote  2nd Vote 3rd Vote  Unnamed: 4 Villagers  \\\n",
       "0 2020-06-01 00:03:19.000     Poppy   Raymond   Bunnie         NaN   Marshal   \n",
       "1 2020-06-01 00:08:45.000      Wade       Dom     Gala         NaN   Raymond   \n",
       "2 2020-06-01 00:09:26.000  Wolfgang     Dobie    Drago         NaN     Sherb   \n",
       "3 2020-06-01 00:10:21.655    Bianca  Freckles    Pango         NaN    Zucker   \n",
       "4 2020-06-01 00:10:58.205     Kitty     Pecan    Poppy         NaN      Judy   \n",
       "\n",
       "    Tally  Unnamed: 7                                            Comment  \n",
       "0  6044.0         NaN  If a villager has the same votes, they're rank...  \n",
       "1  5656.0         NaN                                                NaN  \n",
       "2  3374.0         NaN                                                NaN  \n",
       "3  3079.0         NaN                                                NaN  \n",
       "4  2696.0         NaN                                                NaN  "
      ]
     },
     "execution_count": 4,
     "metadata": {},
     "output_type": "execute_result"
    }
   ],
   "source": [
    "acpJune20.head()"
   ]
  },
  {
   "cell_type": "code",
   "execution_count": 5,
   "id": "f62aaed2",
   "metadata": {},
   "outputs": [
    {
     "name": "stdout",
     "output_type": "stream",
     "text": [
      "ACP - December Poll Final Vote Count 2020.xlsx\n",
      "ACP - August 2020 Poll Final Vote Count.xlsx\n",
      "ACP - September 2020 Poll Final Vote Count.xlsx\n",
      "ACP - November 2020 Poll Final Vote Count.xlsx\n",
      "ACP - June 2020 Poll Final Vote Count.xlsx\n",
      "ACP - October 2020 Poll Final Vote Count.xlsx\n",
      "ACP - July 2020 Poll Final Vote Count.xlsx\n"
     ]
    }
   ],
   "source": [
    "import os\n",
    "ACP_PollRes2020 = pd.DataFrame()\n",
    "for root, dirs, files in os.walk('PollResults/2020/'):\n",
    "    for file in files:\n",
    "        filename = file\n",
    "        print(filename)\n",
    "        if 'ACP' in filename:\n",
    "            df = pd.read_excel('PollResults/2020/'+filename)\n",
    "            df = df[['Villagers','Tally']]\n",
    "            #df = df[df['Villagers']].notna()\n",
    "            ACP_PollRes2020 = ACP_PollRes2020.append(df)"
   ]
  },
  {
   "cell_type": "code",
   "execution_count": 6,
   "id": "307ef9ef",
   "metadata": {},
   "outputs": [
    {
     "data": {
      "text/plain": [
       "(150743, 2)"
      ]
     },
     "execution_count": 6,
     "metadata": {},
     "output_type": "execute_result"
    }
   ],
   "source": [
    "ACP_PollRes2020.shape"
   ]
  },
  {
   "cell_type": "code",
   "execution_count": 7,
   "id": "ef5d5ce1",
   "metadata": {},
   "outputs": [
    {
     "data": {
      "text/html": [
       "<div>\n",
       "<style scoped>\n",
       "    .dataframe tbody tr th:only-of-type {\n",
       "        vertical-align: middle;\n",
       "    }\n",
       "\n",
       "    .dataframe tbody tr th {\n",
       "        vertical-align: top;\n",
       "    }\n",
       "\n",
       "    .dataframe thead th {\n",
       "        text-align: right;\n",
       "    }\n",
       "</style>\n",
       "<table border=\"1\" class=\"dataframe\">\n",
       "  <thead>\n",
       "    <tr style=\"text-align: right;\">\n",
       "      <th></th>\n",
       "      <th>Villagers</th>\n",
       "      <th>Tally</th>\n",
       "    </tr>\n",
       "  </thead>\n",
       "  <tbody>\n",
       "    <tr>\n",
       "      <th>0</th>\n",
       "      <td>Marshal</td>\n",
       "      <td>936.0</td>\n",
       "    </tr>\n",
       "    <tr>\n",
       "      <th>1</th>\n",
       "      <td>Raymond</td>\n",
       "      <td>872.0</td>\n",
       "    </tr>\n",
       "    <tr>\n",
       "      <th>2</th>\n",
       "      <td>Sherb</td>\n",
       "      <td>651.0</td>\n",
       "    </tr>\n",
       "    <tr>\n",
       "      <th>3</th>\n",
       "      <td>Zucker</td>\n",
       "      <td>602.0</td>\n",
       "    </tr>\n",
       "    <tr>\n",
       "      <th>4</th>\n",
       "      <td>Judy</td>\n",
       "      <td>472.0</td>\n",
       "    </tr>\n",
       "  </tbody>\n",
       "</table>\n",
       "</div>"
      ],
      "text/plain": [
       "  Villagers  Tally\n",
       "0   Marshal  936.0\n",
       "1   Raymond  872.0\n",
       "2     Sherb  651.0\n",
       "3    Zucker  602.0\n",
       "4      Judy  472.0"
      ]
     },
     "execution_count": 7,
     "metadata": {},
     "output_type": "execute_result"
    }
   ],
   "source": [
    "ACP_PollRes2020.head()"
   ]
  },
  {
   "cell_type": "code",
   "execution_count": 8,
   "id": "74e63efc",
   "metadata": {},
   "outputs": [],
   "source": [
    "ACP_PollRes2020 = ACP_PollRes2020[ACP_PollRes2020['Villagers'].notna()]"
   ]
  },
  {
   "cell_type": "code",
   "execution_count": 9,
   "id": "d3a28cc6",
   "metadata": {},
   "outputs": [
    {
     "data": {
      "text/plain": [
       "(2737, 2)"
      ]
     },
     "execution_count": 9,
     "metadata": {},
     "output_type": "execute_result"
    }
   ],
   "source": [
    "ACP_PollRes2020.shape"
   ]
  },
  {
   "cell_type": "code",
   "execution_count": 10,
   "id": "71b8fb68",
   "metadata": {},
   "outputs": [
    {
     "data": {
      "text/plain": [
       "array(['Marshal', 'Raymond', 'Sherb', 'Zucker', 'Judy', 'Marina', 'Erik',\n",
       "       'Merry', 'Fauna', 'Stitches', 'Ankha', 'Beau', 'Lolly', 'Audie',\n",
       "       'Dom', 'Merengue', 'Maple', 'Bob', 'Coco', 'Diana', 'Molly',\n",
       "       'Lucky', 'Roald', 'Ketchup', 'Poppy', 'Cherry', 'Tangy', 'Fang',\n",
       "       'Apollo', 'Rosie', 'Goldie', 'Julian', 'Whitney', 'Apple',\n",
       "       'Filbert', 'Tia', 'Sprinkle', 'Pietro', 'Octavian', 'Cookie',\n",
       "       'Flora', 'Bluebear', 'Punchy', 'Kiki', 'Flurry', 'Genji', 'Skye',\n",
       "       'Pashmina', 'Melba', 'Pekoe', 'Aurora', 'Lily', 'Zell', 'Ruby',\n",
       "       'Dobie', 'Wolfgang', 'Kid Cat', 'Chevre', 'Bam', 'Agnes', 'Clay',\n",
       "       'Bones', 'Bianca', 'Henry', 'Kabuki', 'Daisy', 'Kyle', 'Shep',\n",
       "       'Reneigh', 'Katt', 'Hornsby', 'Chrissy', 'Peanut', 'Muffy',\n",
       "       'Sylvana', 'Phoebe', 'Bunnie', 'Fuchsia', 'Hamlet', 'Deirdre',\n",
       "       'Wade', 'June', 'Antonio', 'Bill', 'Cheri', 'Gayle', 'Rudy',\n",
       "       'Felicity', 'Mitzi', 'Chief', 'Lyman', 'Ozzie', 'Snake', 'Dotty',\n",
       "       'Papi', 'Cranston', 'Alice', 'Olivia', 'Teddy', 'Hazel', 'Static',\n",
       "       'Lobo', 'Francine', 'Scoot', 'Roscoe', 'Blaire', 'Poncho', 'Ellie',\n",
       "       'Lopez', 'Eugene', 'Tasha', 'Freya', 'Shari', 'Julia', 'Biskit',\n",
       "       'Bangle', 'Drago', 'Cube', 'Bea', 'Vesta', 'Caroline', 'Mint',\n",
       "       'Nan', 'Willow', 'Purrl', 'Kidd', 'Barold', 'Megan', 'Vivian',\n",
       "       'Wendy', 'Gala', 'Tutu', 'Agent S', 'Dizzy', 'Walker', 'Maddie',\n",
       "       'Margie', 'Celia', 'Flo', 'Boomer', 'Savannah', 'Admiral',\n",
       "       'Sprocket', 'Marcel', 'Broccolo', 'Mira', 'Pecan', 'Tom',\n",
       "       'Jeremiah', 'Pompom', 'Butch', 'Stella', 'Puddles', 'Raddle',\n",
       "       'Joey', 'Bruce', 'Jacques', 'Broffina', 'Tabby', 'Biff',\n",
       "       'Freckles', 'Canberra', 'Anabelle', 'Rodney', 'Frita', 'Olive',\n",
       "       'Norma', 'Bella', 'Pate', 'Cobb', 'Ribbot', 'Colton', 'Cyd',\n",
       "       'Gladys', 'Blanche', 'Sydney', 'Anchovy', 'Tipper', 'Tiffany',\n",
       "       'Rod', 'Tammy', 'Alfonso', 'Sheldon', 'Graham', 'Rolf', 'Moe',\n",
       "       'Pinky', 'Stinky', 'Quillson', 'Hugh', 'Nana', 'Sterling', 'Rodeo',\n",
       "       'Opal', 'Midge', 'Carmen', 'Gonzo', 'Patty', 'Hopkins', 'Tank',\n",
       "       'Stu', 'Piper', 'Diva', 'Gaston', \"O'Hare\", 'Pudge', 'Walt',\n",
       "       'Flip', 'Chester', 'Beardo', 'Bubbles', 'Paolo', 'Sly', 'Rocket',\n",
       "       'Tybalt', 'Ursala', 'Buck', 'Phil', 'Twiggy', 'Deli', 'Cole',\n",
       "       'Pierce', 'Yuka', 'Elvis', 'Sally', 'Benjamin', 'Eunice',\n",
       "       'Grizzly', 'Ava', 'Hopper', 'Klaus', 'Egbert', 'Bree', 'Nibbles',\n",
       "       'Drake', 'Weber', 'Spike', 'Lucy', 'Tex', 'Benedict', 'Eloise',\n",
       "       'Avery', 'Mac', 'Hans', 'Mathilda', 'Pippy', 'Bertha', 'Nate',\n",
       "       'Hamphrey', 'Tammi', 'Amelia', 'Wart Jr.', 'Portia', 'Camofrog',\n",
       "       'Axel', 'Peggy', 'Del', 'Doc', 'Annalisa', 'Prince', 'Drift',\n",
       "       'Sylvia', 'Murphy', 'Pango', 'Vladimir', 'Gigi', 'Iggly', 'Deena',\n",
       "       'Kody', 'Rex', 'Hippeux', 'Victoria', 'Ken', 'Plucky', 'Rory',\n",
       "       'Jacob', 'Cally', 'Knox', 'Renée', 'Gabi', 'Marcie', 'Claude',\n",
       "       'Chadder', 'Jitters', 'Al', 'Monique', 'Keaton', 'Goose', 'Coach',\n",
       "       'Dora', 'Bonbon', 'Billy', 'Bettina', 'Rooney', 'Ed', 'Boone',\n",
       "       'Greta', 'Cousteau', 'Sandy', 'Curt', 'Annalise', 'Tad', 'Lionel',\n",
       "       'Leopold', 'Gloria', 'Ike', 'Frobert', 'Spork', 'Elmer', 'Cleo',\n",
       "       'Peck', 'Puck', 'Croque', 'Huck', 'Friga', 'Boots', 'Kitty',\n",
       "       'Tucker', 'Carrie', 'Frank', 'Jay', 'Claudia', 'Chow', 'Bud',\n",
       "       'Derwin', 'Groucho', 'Kitt', 'Big Top', 'Winnie', 'Peaches',\n",
       "       'Olaf', 'Truffles', 'Simon', 'Paula', 'Anicotti', 'Vic', 'Snooty',\n",
       "       'Curlos', 'Buzz', 'Velma', 'Monty', 'Candi', 'Queenie', 'Pancetti',\n",
       "       'T-Bone', 'Rasher', 'Lucha', 'Kevin', 'Robin', 'Leonardo', 'Moose',\n",
       "       'Charlise', 'Sparro', 'Gwen', 'Naomi', 'Baabara', 'Cashmere',\n",
       "       'Curly', 'Peewee', 'Gruff', 'Miranda', 'Cesar', 'Alli', 'Maelle',\n",
       "       'Boris', 'Becky', 'Rocco', 'Angus', 'Rhonda', 'Louie', 'Soleil',\n",
       "       'Harry', 'Clyde', 'Rowan', 'Mott', 'Timbra', 'Jambette',\n",
       "       'Penelope', 'Rizzo', 'Cyrano', 'Chops', 'Elise', 'Maggie', 'Ricky',\n",
       "       'Samson', 'Mallary', 'Astrid', 'Violet', 'Limberg', 'Bitty',\n",
       "       'Boyd', 'Ursula'], dtype=object)"
      ]
     },
     "execution_count": 10,
     "metadata": {},
     "output_type": "execute_result"
    }
   ],
   "source": [
    "ACP_PollRes2020.Villagers.unique()"
   ]
  },
  {
   "cell_type": "code",
   "execution_count": 11,
   "id": "6e877752",
   "metadata": {},
   "outputs": [],
   "source": [
    "ACP_2020 = ACP_PollRes2020.groupby(by = 'Villagers',dropna=True).Tally.sum().reset_index()"
   ]
  },
  {
   "cell_type": "code",
   "execution_count": 12,
   "id": "9de1410d",
   "metadata": {},
   "outputs": [],
   "source": [
    "ACP_2020 = ACP_2020.sort_values(['Tally'], ascending = False)"
   ]
  },
  {
   "cell_type": "code",
   "execution_count": 13,
   "id": "7ceae5da",
   "metadata": {},
   "outputs": [],
   "source": [
    "ACP_2020 = ACP_2020.reset_index(drop = True)"
   ]
  },
  {
   "cell_type": "code",
   "execution_count": 14,
   "id": "0c7a66a5",
   "metadata": {},
   "outputs": [
    {
     "data": {
      "text/html": [
       "<div>\n",
       "<style scoped>\n",
       "    .dataframe tbody tr th:only-of-type {\n",
       "        vertical-align: middle;\n",
       "    }\n",
       "\n",
       "    .dataframe tbody tr th {\n",
       "        vertical-align: top;\n",
       "    }\n",
       "\n",
       "    .dataframe thead th {\n",
       "        text-align: right;\n",
       "    }\n",
       "</style>\n",
       "<table border=\"1\" class=\"dataframe\">\n",
       "  <thead>\n",
       "    <tr style=\"text-align: right;\">\n",
       "      <th></th>\n",
       "      <th>Villagers</th>\n",
       "      <th>Tally</th>\n",
       "    </tr>\n",
       "  </thead>\n",
       "  <tbody>\n",
       "    <tr>\n",
       "      <th>0</th>\n",
       "      <td>Marshal</td>\n",
       "      <td>20735.0</td>\n",
       "    </tr>\n",
       "    <tr>\n",
       "      <th>1</th>\n",
       "      <td>Raymond</td>\n",
       "      <td>19190.0</td>\n",
       "    </tr>\n",
       "    <tr>\n",
       "      <th>2</th>\n",
       "      <td>Sherb</td>\n",
       "      <td>13217.0</td>\n",
       "    </tr>\n",
       "    <tr>\n",
       "      <th>3</th>\n",
       "      <td>Zucker</td>\n",
       "      <td>10956.0</td>\n",
       "    </tr>\n",
       "    <tr>\n",
       "      <th>4</th>\n",
       "      <td>Judy</td>\n",
       "      <td>9816.0</td>\n",
       "    </tr>\n",
       "    <tr>\n",
       "      <th>5</th>\n",
       "      <td>Marina</td>\n",
       "      <td>8773.0</td>\n",
       "    </tr>\n",
       "    <tr>\n",
       "      <th>6</th>\n",
       "      <td>Merry</td>\n",
       "      <td>8190.0</td>\n",
       "    </tr>\n",
       "    <tr>\n",
       "      <th>7</th>\n",
       "      <td>Audie</td>\n",
       "      <td>7896.0</td>\n",
       "    </tr>\n",
       "    <tr>\n",
       "      <th>8</th>\n",
       "      <td>Stitches</td>\n",
       "      <td>7870.0</td>\n",
       "    </tr>\n",
       "    <tr>\n",
       "      <th>9</th>\n",
       "      <td>Ankha</td>\n",
       "      <td>7832.0</td>\n",
       "    </tr>\n",
       "  </tbody>\n",
       "</table>\n",
       "</div>"
      ],
      "text/plain": [
       "  Villagers    Tally\n",
       "0   Marshal  20735.0\n",
       "1   Raymond  19190.0\n",
       "2     Sherb  13217.0\n",
       "3    Zucker  10956.0\n",
       "4      Judy   9816.0\n",
       "5    Marina   8773.0\n",
       "6     Merry   8190.0\n",
       "7     Audie   7896.0\n",
       "8  Stitches   7870.0\n",
       "9     Ankha   7832.0"
      ]
     },
     "execution_count": 14,
     "metadata": {},
     "output_type": "execute_result"
    }
   ],
   "source": [
    "ACP_2020.head(10)"
   ]
  },
  {
   "cell_type": "markdown",
   "id": "78f98bb3",
   "metadata": {},
   "source": [
    "Doing similar process for the 2021 poll result files from the Animal Crossing Portal player voting results"
   ]
  },
  {
   "cell_type": "code",
   "execution_count": 15,
   "id": "6b6236a9",
   "metadata": {},
   "outputs": [
    {
     "name": "stdout",
     "output_type": "stream",
     "text": [
      "ACP - May 2021 Poll Final Vote Count.xlsx\n",
      "ACP - February Poll Final Vote Count 2021.xlsx\n",
      "ACP - August 2021 Poll Final Vote Count.xlsx\n",
      "ACP - September 2021 Poll Final Vote Count.xlsx\n",
      "ACP - July 2021 Poll Final Vote Count.xlsx\n",
      "ACP - January Poll Final Vote Count 2021.xlsx\n",
      "ACP - April 2021 Poll Final Vote Count.xlsx\n",
      "ACP - October 2021 Villager Popularity Poll (Responses).xlsx\n",
      "ACP - March 2021 Poll Final Vote Count.xlsx\n",
      "ACP - June 2021 Poll Final Vote Count.xlsx\n"
     ]
    }
   ],
   "source": [
    "import os\n",
    "ACP_PollRes2021 = pd.DataFrame()\n",
    "for root, dirs, files in os.walk('PollResults/2021/'):\n",
    "    for file in files:\n",
    "        filename = file\n",
    "        print(filename)\n",
    "        if 'ACP' in filename:\n",
    "            df = pd.read_excel('PollResults/2021/'+filename)\n",
    "            df = df[['Villagers','Tally']]\n",
    "            #df = df[df['Villagers']].notna()\n",
    "            ACP_PollRes2021 = ACP_PollRes2021.append(df)"
   ]
  },
  {
   "cell_type": "code",
   "execution_count": 16,
   "id": "b024f35c",
   "metadata": {},
   "outputs": [
    {
     "data": {
      "text/plain": [
       "(41499, 2)"
      ]
     },
     "execution_count": 16,
     "metadata": {},
     "output_type": "execute_result"
    }
   ],
   "source": [
    "ACP_PollRes2021.shape"
   ]
  },
  {
   "cell_type": "code",
   "execution_count": 17,
   "id": "ab17d9cb",
   "metadata": {},
   "outputs": [
    {
     "name": "stdout",
     "output_type": "stream",
     "text": [
      "<class 'pandas.core.frame.DataFrame'>\n",
      "Int64Index: 41499 entries, 0 to 2426\n",
      "Data columns (total 2 columns):\n",
      " #   Column     Non-Null Count  Dtype  \n",
      "---  ------     --------------  -----  \n",
      " 0   Villagers  3958 non-null   object \n",
      " 1   Tally      3958 non-null   float64\n",
      "dtypes: float64(1), object(1)\n",
      "memory usage: 972.6+ KB\n"
     ]
    }
   ],
   "source": [
    "ACP_PollRes2021.info()"
   ]
  },
  {
   "cell_type": "code",
   "execution_count": 18,
   "id": "00b8362d",
   "metadata": {},
   "outputs": [
    {
     "data": {
      "text/html": [
       "<div>\n",
       "<style scoped>\n",
       "    .dataframe tbody tr th:only-of-type {\n",
       "        vertical-align: middle;\n",
       "    }\n",
       "\n",
       "    .dataframe tbody tr th {\n",
       "        vertical-align: top;\n",
       "    }\n",
       "\n",
       "    .dataframe thead th {\n",
       "        text-align: right;\n",
       "    }\n",
       "</style>\n",
       "<table border=\"1\" class=\"dataframe\">\n",
       "  <thead>\n",
       "    <tr style=\"text-align: right;\">\n",
       "      <th></th>\n",
       "      <th>Villagers</th>\n",
       "      <th>Tally</th>\n",
       "    </tr>\n",
       "  </thead>\n",
       "  <tbody>\n",
       "    <tr>\n",
       "      <th>0</th>\n",
       "      <td>Marshal</td>\n",
       "      <td>479.0</td>\n",
       "    </tr>\n",
       "    <tr>\n",
       "      <th>1</th>\n",
       "      <td>Raymond</td>\n",
       "      <td>459.0</td>\n",
       "    </tr>\n",
       "    <tr>\n",
       "      <th>2</th>\n",
       "      <td>Zucker</td>\n",
       "      <td>413.0</td>\n",
       "    </tr>\n",
       "    <tr>\n",
       "      <th>3</th>\n",
       "      <td>Sherb</td>\n",
       "      <td>390.0</td>\n",
       "    </tr>\n",
       "    <tr>\n",
       "      <th>4</th>\n",
       "      <td>Judy</td>\n",
       "      <td>323.0</td>\n",
       "    </tr>\n",
       "  </tbody>\n",
       "</table>\n",
       "</div>"
      ],
      "text/plain": [
       "  Villagers  Tally\n",
       "0   Marshal  479.0\n",
       "1   Raymond  459.0\n",
       "2    Zucker  413.0\n",
       "3     Sherb  390.0\n",
       "4      Judy  323.0"
      ]
     },
     "execution_count": 18,
     "metadata": {},
     "output_type": "execute_result"
    }
   ],
   "source": [
    "ACP_PollRes2021.head()"
   ]
  },
  {
   "cell_type": "code",
   "execution_count": 19,
   "id": "21940292",
   "metadata": {},
   "outputs": [],
   "source": [
    "#ACP_PollRes2021 = ACP_PollRes2021[ACP_PollRes2021['Villagers']].fillna(0)"
   ]
  },
  {
   "cell_type": "code",
   "execution_count": 20,
   "id": "4c684bc0",
   "metadata": {},
   "outputs": [
    {
     "data": {
      "text/plain": [
       "array(['Marshal', 'Raymond', 'Zucker', 'Sherb', 'Judy', 'Stitches',\n",
       "       'Ankha', 'Marina', 'Fauna', 'Audie', 'Molly', 'Merengue', 'Lolly',\n",
       "       'Maple', 'Beau', 'Dom', 'Erik', 'Coco', 'Diana', 'Bob', 'Lucky',\n",
       "       'Ketchup', 'Cherry', 'Poppy', 'Roald', 'Julian', 'Merry', 'Étoile',\n",
       "       'Apple', 'Apollo', 'Rosie', 'Bluebear', 'Cookie', 'Pietro', 'Tia',\n",
       "       'Tangy', 'Whitney', 'Filbert', 'Octavian', 'Melba', 'Fang', 'Lily',\n",
       "       'Marty', 'Pekoe', 'Goldie', 'Punchy', 'Flora', 'Kiki', 'Kabuki',\n",
       "       'Sprinkle', 'Wolfgang', 'Zell', 'Reneigh', 'Skye', 'Agnes', 'Chai',\n",
       "       'Kid Cat', 'Genji', 'Chrissy', 'Aurora', 'Bam', 'Daisy',\n",
       "       'Pashmina', 'Bill', 'Bianca', 'Bones', 'Flurry', 'Phoebe', 'Dobie',\n",
       "       'Ruby', 'Fuchsia', 'Bunnie', 'Shep', 'Ozzie', 'Hornsby', 'Chevre',\n",
       "       'Gayle', 'Kyle', 'Deirdre', 'Muffy', 'Katt', 'Alfonso', 'Clay',\n",
       "       'Drago', 'Peanut', 'Static', 'Mitzi', 'Julia', 'Bea', 'Papi',\n",
       "       'Sylvana', 'Henry', 'Dotty', 'Hazel', 'Rudy', 'Francine', 'Hamlet',\n",
       "       'Blaire', 'Chief', 'Teddy', 'Ellie', 'Cheri', 'Celia', 'Purrl',\n",
       "       'Freya', 'Lopez', 'Tutu', 'Snake', 'Vivian', 'June', 'Joey',\n",
       "       'Kidd', 'Wendy', 'Dizzy', 'Roscoe', 'Sprocket', 'Olivia', 'Poncho',\n",
       "       'Antonio', 'Biskit', 'Megan', 'Flo', \"O'Hare\", 'Broccolo', 'Nan',\n",
       "       'Wade', 'Bella', 'Eugene', 'Vesta', 'Mira', 'Chadder', 'Alice',\n",
       "       'Pinky', 'Agent S', 'Jeremiah', 'Willow', 'Cranston', 'Shari',\n",
       "       'Canberra', 'Mint', 'Gala', 'Bangle', 'Cole', 'Chelsea',\n",
       "       'Felicity', 'Scoot', 'Savannah', 'Boomer', 'Blanche', 'Carmen',\n",
       "       'Tammy', 'Biff', 'Maddie', 'Midge', 'Hopkins', 'Lyman', 'Lobo',\n",
       "       'Drift', 'Pecan', 'Bruce', 'Admiral', 'Rod', 'Cyd', 'Freckles',\n",
       "       'Grizzly', 'Frita', 'Rilla', 'Frobert', 'Tasha', 'Tabby', 'Walker',\n",
       "       'Maelle', 'Deli', 'Tipper', 'Weber', 'Bree', 'Murphy', 'Elvis',\n",
       "       'Buck', 'Tom', 'Nana', 'Puddles', 'Walt', 'Hugh', 'Eunice',\n",
       "       'Goose', 'Drake', 'Ribbot', 'Olive', 'Margie', 'Moe', 'Penelope',\n",
       "       'Cesar', 'Cube', 'Barold', 'Pompom', 'Colton', 'Norma', 'Tiffany',\n",
       "       'Annalisa', 'Gladys', 'Hamphrey', 'Winnie', 'Rodeo', 'Diva',\n",
       "       'Vladimir', 'Sydney', 'Anabelle', 'Gonzo', 'Rodney', 'Amelia',\n",
       "       'Rolf', 'Mac', 'Jacques', 'Marcel', 'Sterling', 'Tank', 'Sylvia',\n",
       "       'Stella', 'Camofrog', 'Piper', 'Caroline', 'Benjamin', 'Deena',\n",
       "       'Egbert', 'Beardo', 'Butch', 'Renée', 'Bubbles', 'Stinky',\n",
       "       'Raddle', 'Axel', 'Boots', 'Bertha', 'Ken', 'Leonardo', 'Spike',\n",
       "       'Coach', 'Nate', 'Stu', 'Puck', 'Kody', 'Kitty', 'Pate', 'Rex',\n",
       "       'Derwin', 'Nibbles', 'Mathilda', 'Portia', 'Flip', 'Kitt',\n",
       "       'Anchovy', 'Friga', 'Ava', 'Iggly', 'Victoria', 'Peaches', 'Kevin',\n",
       "       'Olaf', 'Patty', 'Yuka', 'Phil', 'Doc', 'Cally', 'Del', 'Plucky',\n",
       "       'Maggie', 'Bonbon', 'Hopper', 'Klaus', 'Chester', 'Pudge',\n",
       "       'Monique', 'Monty', 'Frank', 'Toby', 'Twiggy', 'Tad', 'Jay',\n",
       "       'Cousteau', 'Big Top', 'Tex', 'Angus', 'Keaton', 'Quillson',\n",
       "       'Cleo', 'Peewee', 'Spork', 'T-Bone', 'Sparro', 'Carrie', 'Jacob',\n",
       "       'Boone', 'Cashmere', 'Opal', 'Pippy', 'Dora', 'Prince', 'Paolo',\n",
       "       'Pierce', 'Lionel', 'Avery', 'Leopold', 'Sally', 'Rory', 'Cyrano',\n",
       "       'Gabi', 'Cobb', 'Naomi', 'Pango', 'Benedict', 'Greta', 'Billy',\n",
       "       'Hippeux', 'Soleil', 'Graham', 'Vic', 'Gaston', 'Tammi', 'Rowan',\n",
       "       'Bud', 'Chow', 'Huck', 'Peck', 'Baabara', 'Annalise', 'Tybalt',\n",
       "       'Eloise', 'Lucha', 'Astrid', 'Claudia', 'Anicotti', 'Mallary',\n",
       "       'Tucker', 'Buzz', 'Rocco', 'Candi', 'Becky', 'Al', 'Marcie',\n",
       "       'Curlos', 'Lucy', 'Samson', 'Sheldon', 'Elmer', 'Croque',\n",
       "       'Pancetti', 'Jitters', 'Timbra', 'Claude', 'Bettina', 'Sly',\n",
       "       'Hans', 'Wart Jr.', 'Jambette', 'Knox', 'Robin', 'Truffles',\n",
       "       'Charlise', 'Queenie', 'Broffina', 'Rooney', 'Miranda', 'Velma',\n",
       "       'Rocket', 'Chops', 'Curt', 'Limberg', 'Simon', 'Gwen', 'Clyde',\n",
       "       'Peggy', 'Ike', 'Boris', 'Paula', 'Snooty', 'Gigi', 'Ricky',\n",
       "       'Mott', 'Bitty', 'Violet', 'Ursala', 'Ed', 'Louie', 'Boyd',\n",
       "       'Gruff', 'Alli', 'Sandy', 'Rizzo', 'Moose', 'Groucho', 'Rasher',\n",
       "       'Rhonda', 'Harry', 'Gloria', 'Elise', 'Curly', nan], dtype=object)"
      ]
     },
     "execution_count": 20,
     "metadata": {},
     "output_type": "execute_result"
    }
   ],
   "source": [
    "ACP_PollRes2021.Villagers.unique()"
   ]
  },
  {
   "cell_type": "code",
   "execution_count": 21,
   "id": "769d9bd8",
   "metadata": {},
   "outputs": [],
   "source": [
    "ACP_2021 = ACP_PollRes2021.groupby(by = 'Villagers',dropna=True).Tally.sum().reset_index()"
   ]
  },
  {
   "cell_type": "code",
   "execution_count": 22,
   "id": "19a40cb6",
   "metadata": {},
   "outputs": [],
   "source": [
    "ACP_2021 = ACP_2021.sort_values(['Tally'], ascending = False)"
   ]
  },
  {
   "cell_type": "code",
   "execution_count": 23,
   "id": "ab97a398",
   "metadata": {},
   "outputs": [],
   "source": [
    "ACP_2021 = ACP_2021.reset_index(drop = True)"
   ]
  },
  {
   "cell_type": "code",
   "execution_count": 24,
   "id": "8b888ad1",
   "metadata": {},
   "outputs": [
    {
     "data": {
      "text/html": [
       "<div>\n",
       "<style scoped>\n",
       "    .dataframe tbody tr th:only-of-type {\n",
       "        vertical-align: middle;\n",
       "    }\n",
       "\n",
       "    .dataframe tbody tr th {\n",
       "        vertical-align: top;\n",
       "    }\n",
       "\n",
       "    .dataframe thead th {\n",
       "        text-align: right;\n",
       "    }\n",
       "</style>\n",
       "<table border=\"1\" class=\"dataframe\">\n",
       "  <thead>\n",
       "    <tr style=\"text-align: right;\">\n",
       "      <th></th>\n",
       "      <th>Villagers</th>\n",
       "      <th>Tally</th>\n",
       "    </tr>\n",
       "  </thead>\n",
       "  <tbody>\n",
       "    <tr>\n",
       "      <th>0</th>\n",
       "      <td>Marshal</td>\n",
       "      <td>5865.0</td>\n",
       "    </tr>\n",
       "    <tr>\n",
       "      <th>1</th>\n",
       "      <td>Raymond</td>\n",
       "      <td>5375.0</td>\n",
       "    </tr>\n",
       "    <tr>\n",
       "      <th>2</th>\n",
       "      <td>Zucker</td>\n",
       "      <td>4386.0</td>\n",
       "    </tr>\n",
       "    <tr>\n",
       "      <th>3</th>\n",
       "      <td>Sherb</td>\n",
       "      <td>4278.0</td>\n",
       "    </tr>\n",
       "    <tr>\n",
       "      <th>4</th>\n",
       "      <td>Judy</td>\n",
       "      <td>3238.0</td>\n",
       "    </tr>\n",
       "    <tr>\n",
       "      <th>5</th>\n",
       "      <td>Stitches</td>\n",
       "      <td>2997.0</td>\n",
       "    </tr>\n",
       "    <tr>\n",
       "      <th>6</th>\n",
       "      <td>Ankha</td>\n",
       "      <td>2979.0</td>\n",
       "    </tr>\n",
       "    <tr>\n",
       "      <th>7</th>\n",
       "      <td>Marina</td>\n",
       "      <td>2950.0</td>\n",
       "    </tr>\n",
       "    <tr>\n",
       "      <th>8</th>\n",
       "      <td>Fauna</td>\n",
       "      <td>2925.0</td>\n",
       "    </tr>\n",
       "    <tr>\n",
       "      <th>9</th>\n",
       "      <td>Audie</td>\n",
       "      <td>2655.0</td>\n",
       "    </tr>\n",
       "  </tbody>\n",
       "</table>\n",
       "</div>"
      ],
      "text/plain": [
       "  Villagers   Tally\n",
       "0   Marshal  5865.0\n",
       "1   Raymond  5375.0\n",
       "2    Zucker  4386.0\n",
       "3     Sherb  4278.0\n",
       "4      Judy  3238.0\n",
       "5  Stitches  2997.0\n",
       "6     Ankha  2979.0\n",
       "7    Marina  2950.0\n",
       "8     Fauna  2925.0\n",
       "9     Audie  2655.0"
      ]
     },
     "execution_count": 24,
     "metadata": {},
     "output_type": "execute_result"
    }
   ],
   "source": [
    "ACP_2021.head(10)"
   ]
  },
  {
   "cell_type": "markdown",
   "id": "4f85cf83",
   "metadata": {},
   "source": [
    "Stacking the 2020 and 2021 dataframe from ACP Results"
   ]
  },
  {
   "cell_type": "code",
   "execution_count": 25,
   "id": "d58284a7",
   "metadata": {},
   "outputs": [],
   "source": [
    "# Stack the DataFrames on top of each other\n",
    "ACP_FinalDF = pd.concat([ACP_2020, ACP_2021], axis=0)"
   ]
  },
  {
   "cell_type": "code",
   "execution_count": 26,
   "id": "3e6bffc8",
   "metadata": {},
   "outputs": [
    {
     "name": "stdout",
     "output_type": "stream",
     "text": [
      "<class 'pandas.core.frame.DataFrame'>\n",
      "Int64Index: 789 entries, 0 to 396\n",
      "Data columns (total 2 columns):\n",
      " #   Column     Non-Null Count  Dtype  \n",
      "---  ------     --------------  -----  \n",
      " 0   Villagers  789 non-null    object \n",
      " 1   Tally      789 non-null    float64\n",
      "dtypes: float64(1), object(1)\n",
      "memory usage: 18.5+ KB\n"
     ]
    }
   ],
   "source": [
    "ACP_FinalDF.info()"
   ]
  },
  {
   "cell_type": "markdown",
   "id": "43399e39",
   "metadata": {},
   "source": [
    "Repeating the same groupby process about to the get the total tally sum of voted from Animal Crossing Portal by villager"
   ]
  },
  {
   "cell_type": "code",
   "execution_count": 27,
   "id": "f35377e4",
   "metadata": {},
   "outputs": [],
   "source": [
    "ACP_FinalDF = ACP_FinalDF.groupby(by = 'Villagers',dropna=True).Tally.sum().reset_index()"
   ]
  },
  {
   "cell_type": "code",
   "execution_count": 28,
   "id": "92a67193",
   "metadata": {},
   "outputs": [],
   "source": [
    "ACP_FinalDF = ACP_FinalDF.sort_values(['Tally'], ascending = False)"
   ]
  },
  {
   "cell_type": "code",
   "execution_count": 29,
   "id": "c880686a",
   "metadata": {},
   "outputs": [],
   "source": [
    "ACP_FinalDF = ACP_FinalDF.reset_index(drop = True)"
   ]
  },
  {
   "cell_type": "code",
   "execution_count": 30,
   "id": "f88a4fc1",
   "metadata": {},
   "outputs": [
    {
     "data": {
      "text/html": [
       "<div>\n",
       "<style scoped>\n",
       "    .dataframe tbody tr th:only-of-type {\n",
       "        vertical-align: middle;\n",
       "    }\n",
       "\n",
       "    .dataframe tbody tr th {\n",
       "        vertical-align: top;\n",
       "    }\n",
       "\n",
       "    .dataframe thead th {\n",
       "        text-align: right;\n",
       "    }\n",
       "</style>\n",
       "<table border=\"1\" class=\"dataframe\">\n",
       "  <thead>\n",
       "    <tr style=\"text-align: right;\">\n",
       "      <th></th>\n",
       "      <th>Villagers</th>\n",
       "      <th>Tally</th>\n",
       "    </tr>\n",
       "  </thead>\n",
       "  <tbody>\n",
       "    <tr>\n",
       "      <th>0</th>\n",
       "      <td>Marshal</td>\n",
       "      <td>26600.0</td>\n",
       "    </tr>\n",
       "    <tr>\n",
       "      <th>1</th>\n",
       "      <td>Raymond</td>\n",
       "      <td>24565.0</td>\n",
       "    </tr>\n",
       "    <tr>\n",
       "      <th>2</th>\n",
       "      <td>Sherb</td>\n",
       "      <td>17495.0</td>\n",
       "    </tr>\n",
       "    <tr>\n",
       "      <th>3</th>\n",
       "      <td>Zucker</td>\n",
       "      <td>15342.0</td>\n",
       "    </tr>\n",
       "    <tr>\n",
       "      <th>4</th>\n",
       "      <td>Judy</td>\n",
       "      <td>13054.0</td>\n",
       "    </tr>\n",
       "    <tr>\n",
       "      <th>5</th>\n",
       "      <td>Marina</td>\n",
       "      <td>11723.0</td>\n",
       "    </tr>\n",
       "    <tr>\n",
       "      <th>6</th>\n",
       "      <td>Stitches</td>\n",
       "      <td>10867.0</td>\n",
       "    </tr>\n",
       "    <tr>\n",
       "      <th>7</th>\n",
       "      <td>Ankha</td>\n",
       "      <td>10811.0</td>\n",
       "    </tr>\n",
       "    <tr>\n",
       "      <th>8</th>\n",
       "      <td>Audie</td>\n",
       "      <td>10551.0</td>\n",
       "    </tr>\n",
       "    <tr>\n",
       "      <th>9</th>\n",
       "      <td>Fauna</td>\n",
       "      <td>10248.0</td>\n",
       "    </tr>\n",
       "  </tbody>\n",
       "</table>\n",
       "</div>"
      ],
      "text/plain": [
       "  Villagers    Tally\n",
       "0   Marshal  26600.0\n",
       "1   Raymond  24565.0\n",
       "2     Sherb  17495.0\n",
       "3    Zucker  15342.0\n",
       "4      Judy  13054.0\n",
       "5    Marina  11723.0\n",
       "6  Stitches  10867.0\n",
       "7     Ankha  10811.0\n",
       "8     Audie  10551.0\n",
       "9     Fauna  10248.0"
      ]
     },
     "execution_count": 30,
     "metadata": {},
     "output_type": "execute_result"
    }
   ],
   "source": [
    "ACP_FinalDF.head(10)"
   ]
  },
  {
   "cell_type": "code",
   "execution_count": 31,
   "id": "8bf0c6fe",
   "metadata": {},
   "outputs": [
    {
     "name": "stdout",
     "output_type": "stream",
     "text": [
      "<class 'pandas.core.frame.DataFrame'>\n",
      "RangeIndex: 398 entries, 0 to 397\n",
      "Data columns (total 2 columns):\n",
      " #   Column     Non-Null Count  Dtype  \n",
      "---  ------     --------------  -----  \n",
      " 0   Villagers  398 non-null    object \n",
      " 1   Tally      398 non-null    float64\n",
      "dtypes: float64(1), object(1)\n",
      "memory usage: 6.3+ KB\n"
     ]
    }
   ],
   "source": [
    "ACP_FinalDF.info()"
   ]
  },
  {
   "cell_type": "markdown",
   "id": "537d9af8",
   "metadata": {},
   "source": [
    "I think we have some name variations of the same villagers, we will have to clean those a bit."
   ]
  },
  {
   "cell_type": "markdown",
   "id": "e80f07f4",
   "metadata": {},
   "source": [
    "Goal was to check the villager names but will have to convert to list and then sort ascending and look at the names independently.  "
   ]
  },
  {
   "cell_type": "code",
   "execution_count": 32,
   "id": "0a2a8a52",
   "metadata": {},
   "outputs": [],
   "source": [
    "chkdupenames2021 = ACP_FinalDF.groupby(by='Villagers').count()"
   ]
  },
  {
   "cell_type": "code",
   "execution_count": 33,
   "id": "dc5ba17b",
   "metadata": {},
   "outputs": [
    {
     "data": {
      "text/html": [
       "<div>\n",
       "<style scoped>\n",
       "    .dataframe tbody tr th:only-of-type {\n",
       "        vertical-align: middle;\n",
       "    }\n",
       "\n",
       "    .dataframe tbody tr th {\n",
       "        vertical-align: top;\n",
       "    }\n",
       "\n",
       "    .dataframe thead th {\n",
       "        text-align: right;\n",
       "    }\n",
       "</style>\n",
       "<table border=\"1\" class=\"dataframe\">\n",
       "  <thead>\n",
       "    <tr style=\"text-align: right;\">\n",
       "      <th></th>\n",
       "      <th>Villagers</th>\n",
       "      <th>Tally</th>\n",
       "    </tr>\n",
       "  </thead>\n",
       "  <tbody>\n",
       "    <tr>\n",
       "      <th>0</th>\n",
       "      <td>Admiral</td>\n",
       "      <td>1</td>\n",
       "    </tr>\n",
       "    <tr>\n",
       "      <th>273</th>\n",
       "      <td>Pecan</td>\n",
       "      <td>1</td>\n",
       "    </tr>\n",
       "    <tr>\n",
       "      <th>271</th>\n",
       "      <td>Peaches</td>\n",
       "      <td>1</td>\n",
       "    </tr>\n",
       "    <tr>\n",
       "      <th>270</th>\n",
       "      <td>Paula</td>\n",
       "      <td>1</td>\n",
       "    </tr>\n",
       "    <tr>\n",
       "      <th>269</th>\n",
       "      <td>Patty</td>\n",
       "      <td>1</td>\n",
       "    </tr>\n",
       "    <tr>\n",
       "      <th>...</th>\n",
       "      <td>...</td>\n",
       "      <td>...</td>\n",
       "    </tr>\n",
       "    <tr>\n",
       "      <th>130</th>\n",
       "      <td>Elvis</td>\n",
       "      <td>1</td>\n",
       "    </tr>\n",
       "    <tr>\n",
       "      <th>129</th>\n",
       "      <td>Eloise</td>\n",
       "      <td>1</td>\n",
       "    </tr>\n",
       "    <tr>\n",
       "      <th>128</th>\n",
       "      <td>Elmer</td>\n",
       "      <td>1</td>\n",
       "    </tr>\n",
       "    <tr>\n",
       "      <th>127</th>\n",
       "      <td>Ellie</td>\n",
       "      <td>1</td>\n",
       "    </tr>\n",
       "    <tr>\n",
       "      <th>397</th>\n",
       "      <td>Étoile</td>\n",
       "      <td>1</td>\n",
       "    </tr>\n",
       "  </tbody>\n",
       "</table>\n",
       "<p>398 rows × 2 columns</p>\n",
       "</div>"
      ],
      "text/plain": [
       "    Villagers  Tally\n",
       "0     Admiral      1\n",
       "273     Pecan      1\n",
       "271   Peaches      1\n",
       "270     Paula      1\n",
       "269     Patty      1\n",
       "..        ...    ...\n",
       "130     Elvis      1\n",
       "129    Eloise      1\n",
       "128     Elmer      1\n",
       "127     Ellie      1\n",
       "397    Étoile      1\n",
       "\n",
       "[398 rows x 2 columns]"
      ]
     },
     "execution_count": 33,
     "metadata": {},
     "output_type": "execute_result"
    }
   ],
   "source": [
    "chkdupenames2021.reset_index().sort_values(by = 'Tally', ascending = False)"
   ]
  },
  {
   "cell_type": "code",
   "execution_count": 34,
   "id": "b4647037",
   "metadata": {},
   "outputs": [
    {
     "data": {
      "text/plain": [
       "array([1])"
      ]
     },
     "execution_count": 34,
     "metadata": {},
     "output_type": "execute_result"
    }
   ],
   "source": [
    "chkdupenames2021.Tally.unique()"
   ]
  },
  {
   "cell_type": "markdown",
   "id": "20c2f9f6",
   "metadata": {},
   "source": [
    "So checking for dupes didn't work as I thought but still good to check for sanity"
   ]
  },
  {
   "cell_type": "markdown",
   "id": "9d0e29bd",
   "metadata": {},
   "source": [
    "Going to take the villagers column in df and push to a list then sort ascending."
   ]
  },
  {
   "cell_type": "code",
   "execution_count": 35,
   "id": "3181912a",
   "metadata": {},
   "outputs": [],
   "source": [
    "chknames = ACP_FinalDF.Villagers.to_list()"
   ]
  },
  {
   "cell_type": "code",
   "execution_count": 36,
   "id": "71489e17",
   "metadata": {},
   "outputs": [],
   "source": [
    "chknames = sorted(chknames)"
   ]
  },
  {
   "cell_type": "code",
   "execution_count": 37,
   "id": "19df9ad8",
   "metadata": {},
   "outputs": [
    {
     "data": {
      "text/plain": [
       "['Admiral',\n",
       " 'Agent S',\n",
       " 'Agnes',\n",
       " 'Al',\n",
       " 'Alfonso',\n",
       " 'Alice',\n",
       " 'Alli',\n",
       " 'Amelia',\n",
       " 'Anabelle',\n",
       " 'Anchovy',\n",
       " 'Angus',\n",
       " 'Anicotti',\n",
       " 'Ankha',\n",
       " 'Annalisa',\n",
       " 'Annalise',\n",
       " 'Antonio',\n",
       " 'Apollo',\n",
       " 'Apple',\n",
       " 'Astrid',\n",
       " 'Audie',\n",
       " 'Aurora',\n",
       " 'Ava',\n",
       " 'Avery',\n",
       " 'Axel',\n",
       " 'Baabara',\n",
       " 'Bam',\n",
       " 'Bangle',\n",
       " 'Barold',\n",
       " 'Bea',\n",
       " 'Beardo',\n",
       " 'Beau',\n",
       " 'Becky',\n",
       " 'Bella',\n",
       " 'Benedict',\n",
       " 'Benjamin',\n",
       " 'Bertha',\n",
       " 'Bettina',\n",
       " 'Bianca',\n",
       " 'Biff',\n",
       " 'Big Top',\n",
       " 'Bill',\n",
       " 'Billy',\n",
       " 'Biskit',\n",
       " 'Bitty',\n",
       " 'Blaire',\n",
       " 'Blanche',\n",
       " 'Bluebear',\n",
       " 'Bob',\n",
       " 'Bonbon',\n",
       " 'Bones',\n",
       " 'Boomer',\n",
       " 'Boone',\n",
       " 'Boots',\n",
       " 'Boris',\n",
       " 'Boyd',\n",
       " 'Bree',\n",
       " 'Broccolo',\n",
       " 'Broffina',\n",
       " 'Bruce',\n",
       " 'Bubbles',\n",
       " 'Buck',\n",
       " 'Bud',\n",
       " 'Bunnie',\n",
       " 'Butch',\n",
       " 'Buzz',\n",
       " 'Cally',\n",
       " 'Camofrog',\n",
       " 'Canberra',\n",
       " 'Candi',\n",
       " 'Carmen',\n",
       " 'Caroline',\n",
       " 'Carrie',\n",
       " 'Cashmere',\n",
       " 'Celia',\n",
       " 'Cesar',\n",
       " 'Chadder',\n",
       " 'Chai',\n",
       " 'Charlise',\n",
       " 'Chelsea',\n",
       " 'Cheri',\n",
       " 'Cherry',\n",
       " 'Chester',\n",
       " 'Chevre',\n",
       " 'Chief',\n",
       " 'Chops',\n",
       " 'Chow',\n",
       " 'Chrissy',\n",
       " 'Claude',\n",
       " 'Claudia',\n",
       " 'Clay',\n",
       " 'Cleo',\n",
       " 'Clyde',\n",
       " 'Coach',\n",
       " 'Cobb',\n",
       " 'Coco',\n",
       " 'Cole',\n",
       " 'Colton',\n",
       " 'Cookie',\n",
       " 'Cousteau',\n",
       " 'Cranston',\n",
       " 'Croque',\n",
       " 'Cube',\n",
       " 'Curlos',\n",
       " 'Curly',\n",
       " 'Curt',\n",
       " 'Cyd',\n",
       " 'Cyrano',\n",
       " 'Daisy',\n",
       " 'Deena',\n",
       " 'Deirdre',\n",
       " 'Del',\n",
       " 'Deli',\n",
       " 'Derwin',\n",
       " 'Diana',\n",
       " 'Diva',\n",
       " 'Dizzy',\n",
       " 'Dobie',\n",
       " 'Doc',\n",
       " 'Dom',\n",
       " 'Dora',\n",
       " 'Dotty',\n",
       " 'Drago',\n",
       " 'Drake',\n",
       " 'Drift',\n",
       " 'Ed',\n",
       " 'Egbert',\n",
       " 'Elise',\n",
       " 'Ellie',\n",
       " 'Elmer',\n",
       " 'Eloise',\n",
       " 'Elvis',\n",
       " 'Erik',\n",
       " 'Eugene',\n",
       " 'Eunice',\n",
       " 'Fang',\n",
       " 'Fauna',\n",
       " 'Felicity',\n",
       " 'Filbert',\n",
       " 'Flip',\n",
       " 'Flo',\n",
       " 'Flora',\n",
       " 'Flurry',\n",
       " 'Francine',\n",
       " 'Frank',\n",
       " 'Freckles',\n",
       " 'Freya',\n",
       " 'Friga',\n",
       " 'Frita',\n",
       " 'Frobert',\n",
       " 'Fuchsia',\n",
       " 'Gabi',\n",
       " 'Gala',\n",
       " 'Gaston',\n",
       " 'Gayle',\n",
       " 'Genji',\n",
       " 'Gigi',\n",
       " 'Gladys',\n",
       " 'Gloria',\n",
       " 'Goldie',\n",
       " 'Gonzo',\n",
       " 'Goose',\n",
       " 'Graham',\n",
       " 'Greta',\n",
       " 'Grizzly',\n",
       " 'Groucho',\n",
       " 'Gruff',\n",
       " 'Gwen',\n",
       " 'Hamlet',\n",
       " 'Hamphrey',\n",
       " 'Hans',\n",
       " 'Harry',\n",
       " 'Hazel',\n",
       " 'Henry',\n",
       " 'Hippeux',\n",
       " 'Hopkins',\n",
       " 'Hopper',\n",
       " 'Hornsby',\n",
       " 'Huck',\n",
       " 'Hugh',\n",
       " 'Iggly',\n",
       " 'Ike',\n",
       " 'Jacob',\n",
       " 'Jacques',\n",
       " 'Jambette',\n",
       " 'Jay',\n",
       " 'Jeremiah',\n",
       " 'Jitters',\n",
       " 'Joey',\n",
       " 'Judy',\n",
       " 'Julia',\n",
       " 'Julian',\n",
       " 'June',\n",
       " 'Kabuki',\n",
       " 'Katt',\n",
       " 'Keaton',\n",
       " 'Ken',\n",
       " 'Ketchup',\n",
       " 'Kevin',\n",
       " 'Kid Cat',\n",
       " 'Kidd',\n",
       " 'Kiki',\n",
       " 'Kitt',\n",
       " 'Kitty',\n",
       " 'Klaus',\n",
       " 'Knox',\n",
       " 'Kody',\n",
       " 'Kyle',\n",
       " 'Leonardo',\n",
       " 'Leopold',\n",
       " 'Lily',\n",
       " 'Limberg',\n",
       " 'Lionel',\n",
       " 'Lobo',\n",
       " 'Lolly',\n",
       " 'Lopez',\n",
       " 'Louie',\n",
       " 'Lucha',\n",
       " 'Lucky',\n",
       " 'Lucy',\n",
       " 'Lyman',\n",
       " 'Mac',\n",
       " 'Maddie',\n",
       " 'Maelle',\n",
       " 'Maggie',\n",
       " 'Mallary',\n",
       " 'Maple',\n",
       " 'Marcel',\n",
       " 'Marcie',\n",
       " 'Margie',\n",
       " 'Marina',\n",
       " 'Marshal',\n",
       " 'Marty',\n",
       " 'Mathilda',\n",
       " 'Megan',\n",
       " 'Melba',\n",
       " 'Merengue',\n",
       " 'Merry',\n",
       " 'Midge',\n",
       " 'Mint',\n",
       " 'Mira',\n",
       " 'Miranda',\n",
       " 'Mitzi',\n",
       " 'Moe',\n",
       " 'Molly',\n",
       " 'Monique',\n",
       " 'Monty',\n",
       " 'Moose',\n",
       " 'Mott',\n",
       " 'Muffy',\n",
       " 'Murphy',\n",
       " 'Nan',\n",
       " 'Nana',\n",
       " 'Naomi',\n",
       " 'Nate',\n",
       " 'Nibbles',\n",
       " 'Norma',\n",
       " \"O'Hare\",\n",
       " 'Octavian',\n",
       " 'Olaf',\n",
       " 'Olive',\n",
       " 'Olivia',\n",
       " 'Opal',\n",
       " 'Ozzie',\n",
       " 'Pancetti',\n",
       " 'Pango',\n",
       " 'Paolo',\n",
       " 'Papi',\n",
       " 'Pashmina',\n",
       " 'Pate',\n",
       " 'Patty',\n",
       " 'Paula',\n",
       " 'Peaches',\n",
       " 'Peanut',\n",
       " 'Pecan',\n",
       " 'Peck',\n",
       " 'Peewee',\n",
       " 'Peggy',\n",
       " 'Pekoe',\n",
       " 'Penelope',\n",
       " 'Phil',\n",
       " 'Phoebe',\n",
       " 'Pierce',\n",
       " 'Pietro',\n",
       " 'Pinky',\n",
       " 'Piper',\n",
       " 'Pippy',\n",
       " 'Plucky',\n",
       " 'Pompom',\n",
       " 'Poncho',\n",
       " 'Poppy',\n",
       " 'Portia',\n",
       " 'Prince',\n",
       " 'Puck',\n",
       " 'Puddles',\n",
       " 'Pudge',\n",
       " 'Punchy',\n",
       " 'Purrl',\n",
       " 'Queenie',\n",
       " 'Quillson',\n",
       " 'Raddle',\n",
       " 'Rasher',\n",
       " 'Raymond',\n",
       " 'Reneigh',\n",
       " 'Renée',\n",
       " 'Rex',\n",
       " 'Rhonda',\n",
       " 'Ribbot',\n",
       " 'Ricky',\n",
       " 'Rilla',\n",
       " 'Rizzo',\n",
       " 'Roald',\n",
       " 'Robin',\n",
       " 'Rocco',\n",
       " 'Rocket',\n",
       " 'Rod',\n",
       " 'Rodeo',\n",
       " 'Rodney',\n",
       " 'Rolf',\n",
       " 'Rooney',\n",
       " 'Rory',\n",
       " 'Roscoe',\n",
       " 'Rosie',\n",
       " 'Rowan',\n",
       " 'Ruby',\n",
       " 'Rudy',\n",
       " 'Sally',\n",
       " 'Samson',\n",
       " 'Sandy',\n",
       " 'Savannah',\n",
       " 'Scoot',\n",
       " 'Shari',\n",
       " 'Sheldon',\n",
       " 'Shep',\n",
       " 'Sherb',\n",
       " 'Simon',\n",
       " 'Skye',\n",
       " 'Sly',\n",
       " 'Snake',\n",
       " 'Snooty',\n",
       " 'Soleil',\n",
       " 'Sparro',\n",
       " 'Spike',\n",
       " 'Spork',\n",
       " 'Sprinkle',\n",
       " 'Sprocket',\n",
       " 'Static',\n",
       " 'Stella',\n",
       " 'Sterling',\n",
       " 'Stinky',\n",
       " 'Stitches',\n",
       " 'Stu',\n",
       " 'Sydney',\n",
       " 'Sylvana',\n",
       " 'Sylvia',\n",
       " 'T-Bone',\n",
       " 'Tabby',\n",
       " 'Tad',\n",
       " 'Tammi',\n",
       " 'Tammy',\n",
       " 'Tangy',\n",
       " 'Tank',\n",
       " 'Tasha',\n",
       " 'Teddy',\n",
       " 'Tex',\n",
       " 'Tia',\n",
       " 'Tiffany',\n",
       " 'Timbra',\n",
       " 'Tipper',\n",
       " 'Toby',\n",
       " 'Tom',\n",
       " 'Truffles',\n",
       " 'Tucker',\n",
       " 'Tutu',\n",
       " 'Twiggy',\n",
       " 'Tybalt',\n",
       " 'Ursala',\n",
       " 'Ursula',\n",
       " 'Velma',\n",
       " 'Vesta',\n",
       " 'Vic',\n",
       " 'Victoria',\n",
       " 'Violet',\n",
       " 'Vivian',\n",
       " 'Vladimir',\n",
       " 'Wade',\n",
       " 'Walker',\n",
       " 'Walt',\n",
       " 'Wart Jr.',\n",
       " 'Weber',\n",
       " 'Wendy',\n",
       " 'Whitney',\n",
       " 'Willow',\n",
       " 'Winnie',\n",
       " 'Wolfgang',\n",
       " 'Yuka',\n",
       " 'Zell',\n",
       " 'Zucker',\n",
       " 'Étoile']"
      ]
     },
     "execution_count": 37,
     "metadata": {},
     "output_type": "execute_result"
    }
   ],
   "source": [
    "chknames"
   ]
  },
  {
   "cell_type": "markdown",
   "id": "d4415a90",
   "metadata": {},
   "source": [
    "Need to check Annalise and Annalisa (edit: checked anteater and horse so okay), Curlos and Curly(edit: sheep and pig), Del and Deli(edit: alligator and monkey), Remove Nan (edit: is a goat), Tammi and Tammy (edit: monkey and cub(bear)), Ursula and Ursala (edit: need to change Ursula to Ursala, just one character/villager that is a cub(bear)).  (Note: Possibly switch O'Hare to OHare and fix Renee with tilde for joining purposes) "
   ]
  },
  {
   "cell_type": "code",
   "execution_count": 38,
   "id": "498bf77f",
   "metadata": {},
   "outputs": [],
   "source": [
    "#fixing Ursula to Ursala\n",
    "ACP_FinalDF[\"Villagers\"].replace({\"Ursula\": \"Ursala\"}, inplace=True)"
   ]
  },
  {
   "cell_type": "code",
   "execution_count": 39,
   "id": "7acc3595",
   "metadata": {},
   "outputs": [
    {
     "data": {
      "text/html": [
       "<div>\n",
       "<style scoped>\n",
       "    .dataframe tbody tr th:only-of-type {\n",
       "        vertical-align: middle;\n",
       "    }\n",
       "\n",
       "    .dataframe tbody tr th {\n",
       "        vertical-align: top;\n",
       "    }\n",
       "\n",
       "    .dataframe thead th {\n",
       "        text-align: right;\n",
       "    }\n",
       "</style>\n",
       "<table border=\"1\" class=\"dataframe\">\n",
       "  <thead>\n",
       "    <tr style=\"text-align: right;\">\n",
       "      <th></th>\n",
       "      <th>Villagers</th>\n",
       "      <th>Tally</th>\n",
       "    </tr>\n",
       "  </thead>\n",
       "  <tbody>\n",
       "    <tr>\n",
       "      <th>0</th>\n",
       "      <td>Marshal</td>\n",
       "      <td>26600.0</td>\n",
       "    </tr>\n",
       "    <tr>\n",
       "      <th>1</th>\n",
       "      <td>Raymond</td>\n",
       "      <td>24565.0</td>\n",
       "    </tr>\n",
       "    <tr>\n",
       "      <th>2</th>\n",
       "      <td>Sherb</td>\n",
       "      <td>17495.0</td>\n",
       "    </tr>\n",
       "    <tr>\n",
       "      <th>3</th>\n",
       "      <td>Zucker</td>\n",
       "      <td>15342.0</td>\n",
       "    </tr>\n",
       "    <tr>\n",
       "      <th>4</th>\n",
       "      <td>Judy</td>\n",
       "      <td>13054.0</td>\n",
       "    </tr>\n",
       "  </tbody>\n",
       "</table>\n",
       "</div>"
      ],
      "text/plain": [
       "  Villagers    Tally\n",
       "0   Marshal  26600.0\n",
       "1   Raymond  24565.0\n",
       "2     Sherb  17495.0\n",
       "3    Zucker  15342.0\n",
       "4      Judy  13054.0"
      ]
     },
     "execution_count": 39,
     "metadata": {},
     "output_type": "execute_result"
    }
   ],
   "source": [
    "ACP_FinalDF.head()"
   ]
  },
  {
   "cell_type": "code",
   "execution_count": 47,
   "id": "0864ce11",
   "metadata": {},
   "outputs": [],
   "source": [
    "#redoing groupbyto fix Ursala totals\n",
    "ACP_FinalDF = ACP_FinalDF.groupby(by = 'Villagers',dropna=True).Tally.sum().reset_index()"
   ]
  },
  {
   "cell_type": "code",
   "execution_count": 48,
   "id": "9d97ec87",
   "metadata": {},
   "outputs": [],
   "source": [
    "ACP_FinalDF = ACP_FinalDF.sort_values(['Tally'], ascending = False)"
   ]
  },
  {
   "cell_type": "code",
   "execution_count": 49,
   "id": "bd1daba4",
   "metadata": {},
   "outputs": [],
   "source": [
    "ACP_FinalDF = ACP_FinalDF.reset_index(drop = True)"
   ]
  },
  {
   "cell_type": "code",
   "execution_count": 50,
   "id": "c13669b7",
   "metadata": {},
   "outputs": [
    {
     "data": {
      "text/html": [
       "<div>\n",
       "<style scoped>\n",
       "    .dataframe tbody tr th:only-of-type {\n",
       "        vertical-align: middle;\n",
       "    }\n",
       "\n",
       "    .dataframe tbody tr th {\n",
       "        vertical-align: top;\n",
       "    }\n",
       "\n",
       "    .dataframe thead th {\n",
       "        text-align: right;\n",
       "    }\n",
       "</style>\n",
       "<table border=\"1\" class=\"dataframe\">\n",
       "  <thead>\n",
       "    <tr style=\"text-align: right;\">\n",
       "      <th></th>\n",
       "      <th>Villagers</th>\n",
       "      <th>Tally</th>\n",
       "    </tr>\n",
       "  </thead>\n",
       "  <tbody>\n",
       "    <tr>\n",
       "      <th>0</th>\n",
       "      <td>Marshal</td>\n",
       "      <td>26600.0</td>\n",
       "    </tr>\n",
       "    <tr>\n",
       "      <th>1</th>\n",
       "      <td>Raymond</td>\n",
       "      <td>24565.0</td>\n",
       "    </tr>\n",
       "    <tr>\n",
       "      <th>2</th>\n",
       "      <td>Sherb</td>\n",
       "      <td>17495.0</td>\n",
       "    </tr>\n",
       "    <tr>\n",
       "      <th>3</th>\n",
       "      <td>Zucker</td>\n",
       "      <td>15342.0</td>\n",
       "    </tr>\n",
       "    <tr>\n",
       "      <th>4</th>\n",
       "      <td>Judy</td>\n",
       "      <td>13054.0</td>\n",
       "    </tr>\n",
       "  </tbody>\n",
       "</table>\n",
       "</div>"
      ],
      "text/plain": [
       "  Villagers    Tally\n",
       "0   Marshal  26600.0\n",
       "1   Raymond  24565.0\n",
       "2     Sherb  17495.0\n",
       "3    Zucker  15342.0\n",
       "4      Judy  13054.0"
      ]
     },
     "execution_count": 50,
     "metadata": {},
     "output_type": "execute_result"
    }
   ],
   "source": [
    "ACP_FinalDF.head()"
   ]
  },
  {
   "cell_type": "code",
   "execution_count": 52,
   "id": "83efd398",
   "metadata": {},
   "outputs": [],
   "source": [
    "#redoing chknames\n",
    "chknames = ACP_FinalDF.Villagers.to_list()"
   ]
  },
  {
   "cell_type": "code",
   "execution_count": 53,
   "id": "6dca1f63",
   "metadata": {},
   "outputs": [],
   "source": [
    "chknames = sorted(chknames)"
   ]
  },
  {
   "cell_type": "code",
   "execution_count": 54,
   "id": "f9c30af4",
   "metadata": {},
   "outputs": [
    {
     "name": "stdout",
     "output_type": "stream",
     "text": [
      "397\n"
     ]
    }
   ],
   "source": [
    "print(len(chknames))"
   ]
  },
  {
   "cell_type": "markdown",
   "id": "3069f6d4",
   "metadata": {},
   "source": [
    "Ursula to Ursala is now fixed - we can tell by length which went down from 398 to 397"
   ]
  },
  {
   "cell_type": "code",
   "execution_count": 55,
   "id": "e587d117",
   "metadata": {},
   "outputs": [],
   "source": [
    "villagers = pd.read_csv('villagers.csv')"
   ]
  },
  {
   "cell_type": "code",
   "execution_count": 56,
   "id": "e9385e28",
   "metadata": {},
   "outputs": [
    {
     "data": {
      "text/html": [
       "<div>\n",
       "<style scoped>\n",
       "    .dataframe tbody tr th:only-of-type {\n",
       "        vertical-align: middle;\n",
       "    }\n",
       "\n",
       "    .dataframe tbody tr th {\n",
       "        vertical-align: top;\n",
       "    }\n",
       "\n",
       "    .dataframe thead th {\n",
       "        text-align: right;\n",
       "    }\n",
       "</style>\n",
       "<table border=\"1\" class=\"dataframe\">\n",
       "  <thead>\n",
       "    <tr style=\"text-align: right;\">\n",
       "      <th></th>\n",
       "      <th>Name</th>\n",
       "      <th>Species</th>\n",
       "      <th>Gender</th>\n",
       "      <th>Personality</th>\n",
       "      <th>Hobby</th>\n",
       "      <th>Birthday</th>\n",
       "      <th>Catchphrase</th>\n",
       "      <th>Favorite Song</th>\n",
       "      <th>Style 1</th>\n",
       "      <th>Style 2</th>\n",
       "      <th>Color 1</th>\n",
       "      <th>Color 2</th>\n",
       "      <th>Wallpaper</th>\n",
       "      <th>Flooring</th>\n",
       "      <th>Furniture List</th>\n",
       "      <th>Filename</th>\n",
       "      <th>Unique Entry ID</th>\n",
       "    </tr>\n",
       "  </thead>\n",
       "  <tbody>\n",
       "    <tr>\n",
       "      <th>0</th>\n",
       "      <td>Admiral</td>\n",
       "      <td>Bird</td>\n",
       "      <td>Male</td>\n",
       "      <td>Cranky</td>\n",
       "      <td>Nature</td>\n",
       "      <td>27-Jan</td>\n",
       "      <td>aye aye</td>\n",
       "      <td>Steep Hill</td>\n",
       "      <td>Cool</td>\n",
       "      <td>Cool</td>\n",
       "      <td>Black</td>\n",
       "      <td>Blue</td>\n",
       "      <td>dirt-clod wall</td>\n",
       "      <td>tatami</td>\n",
       "      <td>717;1849;7047;2736;787;5970;3449;3622;3802;410...</td>\n",
       "      <td>brd06</td>\n",
       "      <td>B3RyfNEqwGmcccRC3</td>\n",
       "    </tr>\n",
       "    <tr>\n",
       "      <th>1</th>\n",
       "      <td>Agent S</td>\n",
       "      <td>Squirrel</td>\n",
       "      <td>Female</td>\n",
       "      <td>Peppy</td>\n",
       "      <td>Fitness</td>\n",
       "      <td>2-Jul</td>\n",
       "      <td>sidekick</td>\n",
       "      <td>Go K.K. Rider</td>\n",
       "      <td>Active</td>\n",
       "      <td>Simple</td>\n",
       "      <td>Blue</td>\n",
       "      <td>Black</td>\n",
       "      <td>concrete wall</td>\n",
       "      <td>colorful tile flooring</td>\n",
       "      <td>7845;7150;3468;4080;290;3971;3449;1708;4756;25...</td>\n",
       "      <td>squ05</td>\n",
       "      <td>SGMdki6dzpDZyXAw5</td>\n",
       "    </tr>\n",
       "    <tr>\n",
       "      <th>2</th>\n",
       "      <td>Agnes</td>\n",
       "      <td>Pig</td>\n",
       "      <td>Female</td>\n",
       "      <td>Big Sister</td>\n",
       "      <td>Play</td>\n",
       "      <td>21-Apr</td>\n",
       "      <td>snuffle</td>\n",
       "      <td>K.K. House</td>\n",
       "      <td>Simple</td>\n",
       "      <td>Elegant</td>\n",
       "      <td>Pink</td>\n",
       "      <td>White</td>\n",
       "      <td>gray molded-panel wall</td>\n",
       "      <td>arabesque flooring</td>\n",
       "      <td>4129;7236;7235;7802;896;3428;4027;7325;3958;71...</td>\n",
       "      <td>pig17</td>\n",
       "      <td>jzWCiDPm9MqtCfecP</td>\n",
       "    </tr>\n",
       "    <tr>\n",
       "      <th>3</th>\n",
       "      <td>Al</td>\n",
       "      <td>Gorilla</td>\n",
       "      <td>Male</td>\n",
       "      <td>Lazy</td>\n",
       "      <td>Fitness</td>\n",
       "      <td>18-Oct</td>\n",
       "      <td>ayyyeee</td>\n",
       "      <td>Go K.K. Rider</td>\n",
       "      <td>Active</td>\n",
       "      <td>Active</td>\n",
       "      <td>Red</td>\n",
       "      <td>White</td>\n",
       "      <td>concrete wall</td>\n",
       "      <td>green rubber flooring</td>\n",
       "      <td>1452;4078;4013;833;4116;3697;7845;3307;3946;39...</td>\n",
       "      <td>gor08</td>\n",
       "      <td>LBifxETQJGEaLhBjC</td>\n",
       "    </tr>\n",
       "    <tr>\n",
       "      <th>4</th>\n",
       "      <td>Alfonso</td>\n",
       "      <td>Alligator</td>\n",
       "      <td>Male</td>\n",
       "      <td>Lazy</td>\n",
       "      <td>Play</td>\n",
       "      <td>9-Jun</td>\n",
       "      <td>it'sa me</td>\n",
       "      <td>Forest Life</td>\n",
       "      <td>Simple</td>\n",
       "      <td>Simple</td>\n",
       "      <td>Red</td>\n",
       "      <td>Blue</td>\n",
       "      <td>yellow playroom wall</td>\n",
       "      <td>green honeycomb tile</td>\n",
       "      <td>4763;3205;3701;1557;3623;85;3208;3584;4761;121...</td>\n",
       "      <td>crd00</td>\n",
       "      <td>REpd8KxB8p9aGBRSE</td>\n",
       "    </tr>\n",
       "  </tbody>\n",
       "</table>\n",
       "</div>"
      ],
      "text/plain": [
       "      Name    Species  Gender Personality    Hobby Birthday Catchphrase  \\\n",
       "0  Admiral       Bird    Male      Cranky   Nature   27-Jan     aye aye   \n",
       "1  Agent S   Squirrel  Female       Peppy  Fitness    2-Jul    sidekick   \n",
       "2    Agnes        Pig  Female  Big Sister     Play   21-Apr     snuffle   \n",
       "3       Al    Gorilla    Male        Lazy  Fitness   18-Oct     ayyyeee   \n",
       "4  Alfonso  Alligator    Male        Lazy     Play    9-Jun    it'sa me   \n",
       "\n",
       "   Favorite Song Style 1  Style 2 Color 1 Color 2               Wallpaper  \\\n",
       "0     Steep Hill    Cool     Cool   Black    Blue          dirt-clod wall   \n",
       "1  Go K.K. Rider  Active   Simple    Blue   Black           concrete wall   \n",
       "2     K.K. House  Simple  Elegant    Pink   White  gray molded-panel wall   \n",
       "3  Go K.K. Rider  Active   Active     Red   White           concrete wall   \n",
       "4    Forest Life  Simple   Simple     Red    Blue    yellow playroom wall   \n",
       "\n",
       "                 Flooring                                     Furniture List  \\\n",
       "0                  tatami  717;1849;7047;2736;787;5970;3449;3622;3802;410...   \n",
       "1  colorful tile flooring  7845;7150;3468;4080;290;3971;3449;1708;4756;25...   \n",
       "2      arabesque flooring  4129;7236;7235;7802;896;3428;4027;7325;3958;71...   \n",
       "3   green rubber flooring  1452;4078;4013;833;4116;3697;7845;3307;3946;39...   \n",
       "4    green honeycomb tile  4763;3205;3701;1557;3623;85;3208;3584;4761;121...   \n",
       "\n",
       "  Filename    Unique Entry ID  \n",
       "0    brd06  B3RyfNEqwGmcccRC3  \n",
       "1    squ05  SGMdki6dzpDZyXAw5  \n",
       "2    pig17  jzWCiDPm9MqtCfecP  \n",
       "3    gor08  LBifxETQJGEaLhBjC  \n",
       "4    crd00  REpd8KxB8p9aGBRSE  "
      ]
     },
     "execution_count": 56,
     "metadata": {},
     "output_type": "execute_result"
    }
   ],
   "source": [
    "villagers.head()"
   ]
  },
  {
   "cell_type": "code",
   "execution_count": 57,
   "id": "9b39614a",
   "metadata": {},
   "outputs": [],
   "source": [
    "villagerschk = villagers['Name'].to_list()"
   ]
  },
  {
   "cell_type": "code",
   "execution_count": 58,
   "id": "686ec0ca",
   "metadata": {},
   "outputs": [
    {
     "name": "stdout",
     "output_type": "stream",
     "text": [
      "391\n"
     ]
    }
   ],
   "source": [
    "print(len(villagerschk))"
   ]
  },
  {
   "cell_type": "code",
   "execution_count": 59,
   "id": "485b8ed5",
   "metadata": {},
   "outputs": [
    {
     "name": "stdout",
     "output_type": "stream",
     "text": [
      "397\n"
     ]
    }
   ],
   "source": [
    "print(len(chknames))"
   ]
  },
  {
   "cell_type": "code",
   "execution_count": 60,
   "id": "b8fb1145",
   "metadata": {},
   "outputs": [],
   "source": [
    "setV = set(villagerschk)\n",
    "setC = set(chknames)"
   ]
  },
  {
   "cell_type": "code",
   "execution_count": 61,
   "id": "76151e4e",
   "metadata": {},
   "outputs": [
    {
     "name": "stdout",
     "output_type": "stream",
     "text": [
      "missing: []\n",
      "added: ['Chai', 'Chelsea', 'Marty', 'Rilla', 'Toby', 'Étoile']\n"
     ]
    }
   ],
   "source": [
    "missing = list(sorted(setV - setC))\n",
    "added = list(sorted(setC - setV))\n",
    "\n",
    "print('missing:', missing)\n",
    "print('added:', added)"
   ]
  },
  {
   "cell_type": "markdown",
   "id": "cb4f0a7a",
   "metadata": {},
   "source": [
    "Need to check why 'Chai','Chelsea', 'Marty', 'Rilla', 'Toby','Étoile' are not in villagers.csv file are they brand new?"
   ]
  },
  {
   "cell_type": "markdown",
   "id": "5b534725",
   "metadata": {},
   "source": [
    "Upon further research these villagers: Chai, Chelsea, Marty, Rilla, Toby and Etoile are from the Sanrio update so they will not be in our Villagers datset.  When joining the two data sets villagers.csv and the ACP_FinalDF they will disappear :) "
   ]
  },
  {
   "cell_type": "code",
   "execution_count": 62,
   "id": "bb521147",
   "metadata": {},
   "outputs": [],
   "source": [
    "ACP_FinalDF.to_csv(\"ACP_FinalDF.csv\")"
   ]
  }
 ],
 "metadata": {
  "kernelspec": {
   "display_name": "Python 3 (ipykernel)",
   "language": "python",
   "name": "python3"
  },
  "language_info": {
   "codemirror_mode": {
    "name": "ipython",
    "version": 3
   },
   "file_extension": ".py",
   "mimetype": "text/x-python",
   "name": "python",
   "nbconvert_exporter": "python",
   "pygments_lexer": "ipython3",
   "version": "3.9.8"
  }
 },
 "nbformat": 4,
 "nbformat_minor": 5
}
