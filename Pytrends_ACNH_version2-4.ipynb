{
 "cells": [
  {
   "cell_type": "code",
   "execution_count": 1,
   "id": "50e4598d",
   "metadata": {},
   "outputs": [],
   "source": [
    "import pandas as pd\n",
    "import matplotlib as plot\n",
    "#import pytrends\n",
    "from pytrends.request import TrendReq\n",
    "pytrend = TrendReq(hl='en-US', tz=360)"
   ]
  },
  {
   "cell_type": "code",
   "execution_count": 2,
   "id": "f671c09a",
   "metadata": {},
   "outputs": [],
   "source": [
    "acnh_villagers= pd.read_csv(\"villagers.csv\")"
   ]
  },
  {
   "cell_type": "code",
   "execution_count": 3,
   "id": "2577c239",
   "metadata": {},
   "outputs": [
    {
     "data": {
      "text/html": [
       "<div>\n",
       "<style scoped>\n",
       "    .dataframe tbody tr th:only-of-type {\n",
       "        vertical-align: middle;\n",
       "    }\n",
       "\n",
       "    .dataframe tbody tr th {\n",
       "        vertical-align: top;\n",
       "    }\n",
       "\n",
       "    .dataframe thead th {\n",
       "        text-align: right;\n",
       "    }\n",
       "</style>\n",
       "<table border=\"1\" class=\"dataframe\">\n",
       "  <thead>\n",
       "    <tr style=\"text-align: right;\">\n",
       "      <th></th>\n",
       "      <th>Name</th>\n",
       "      <th>Species</th>\n",
       "      <th>Gender</th>\n",
       "      <th>Personality</th>\n",
       "      <th>Hobby</th>\n",
       "      <th>Birthday</th>\n",
       "      <th>Catchphrase</th>\n",
       "      <th>Favorite Song</th>\n",
       "      <th>Style 1</th>\n",
       "      <th>Style 2</th>\n",
       "      <th>Color 1</th>\n",
       "      <th>Color 2</th>\n",
       "      <th>Wallpaper</th>\n",
       "      <th>Flooring</th>\n",
       "      <th>Furniture List</th>\n",
       "      <th>Filename</th>\n",
       "      <th>Unique Entry ID</th>\n",
       "    </tr>\n",
       "  </thead>\n",
       "  <tbody>\n",
       "    <tr>\n",
       "      <th>0</th>\n",
       "      <td>Admiral</td>\n",
       "      <td>Bird</td>\n",
       "      <td>Male</td>\n",
       "      <td>Cranky</td>\n",
       "      <td>Nature</td>\n",
       "      <td>27-Jan</td>\n",
       "      <td>aye aye</td>\n",
       "      <td>Steep Hill</td>\n",
       "      <td>Cool</td>\n",
       "      <td>Cool</td>\n",
       "      <td>Black</td>\n",
       "      <td>Blue</td>\n",
       "      <td>dirt-clod wall</td>\n",
       "      <td>tatami</td>\n",
       "      <td>717;1849;7047;2736;787;5970;3449;3622;3802;410...</td>\n",
       "      <td>brd06</td>\n",
       "      <td>B3RyfNEqwGmcccRC3</td>\n",
       "    </tr>\n",
       "    <tr>\n",
       "      <th>1</th>\n",
       "      <td>Agent S</td>\n",
       "      <td>Squirrel</td>\n",
       "      <td>Female</td>\n",
       "      <td>Peppy</td>\n",
       "      <td>Fitness</td>\n",
       "      <td>2-Jul</td>\n",
       "      <td>sidekick</td>\n",
       "      <td>Go K.K. Rider</td>\n",
       "      <td>Active</td>\n",
       "      <td>Simple</td>\n",
       "      <td>Blue</td>\n",
       "      <td>Black</td>\n",
       "      <td>concrete wall</td>\n",
       "      <td>colorful tile flooring</td>\n",
       "      <td>7845;7150;3468;4080;290;3971;3449;1708;4756;25...</td>\n",
       "      <td>squ05</td>\n",
       "      <td>SGMdki6dzpDZyXAw5</td>\n",
       "    </tr>\n",
       "    <tr>\n",
       "      <th>2</th>\n",
       "      <td>Agnes</td>\n",
       "      <td>Pig</td>\n",
       "      <td>Female</td>\n",
       "      <td>Big Sister</td>\n",
       "      <td>Play</td>\n",
       "      <td>21-Apr</td>\n",
       "      <td>snuffle</td>\n",
       "      <td>K.K. House</td>\n",
       "      <td>Simple</td>\n",
       "      <td>Elegant</td>\n",
       "      <td>Pink</td>\n",
       "      <td>White</td>\n",
       "      <td>gray molded-panel wall</td>\n",
       "      <td>arabesque flooring</td>\n",
       "      <td>4129;7236;7235;7802;896;3428;4027;7325;3958;71...</td>\n",
       "      <td>pig17</td>\n",
       "      <td>jzWCiDPm9MqtCfecP</td>\n",
       "    </tr>\n",
       "    <tr>\n",
       "      <th>3</th>\n",
       "      <td>Al</td>\n",
       "      <td>Gorilla</td>\n",
       "      <td>Male</td>\n",
       "      <td>Lazy</td>\n",
       "      <td>Fitness</td>\n",
       "      <td>18-Oct</td>\n",
       "      <td>ayyyeee</td>\n",
       "      <td>Go K.K. Rider</td>\n",
       "      <td>Active</td>\n",
       "      <td>Active</td>\n",
       "      <td>Red</td>\n",
       "      <td>White</td>\n",
       "      <td>concrete wall</td>\n",
       "      <td>green rubber flooring</td>\n",
       "      <td>1452;4078;4013;833;4116;3697;7845;3307;3946;39...</td>\n",
       "      <td>gor08</td>\n",
       "      <td>LBifxETQJGEaLhBjC</td>\n",
       "    </tr>\n",
       "    <tr>\n",
       "      <th>4</th>\n",
       "      <td>Alfonso</td>\n",
       "      <td>Alligator</td>\n",
       "      <td>Male</td>\n",
       "      <td>Lazy</td>\n",
       "      <td>Play</td>\n",
       "      <td>9-Jun</td>\n",
       "      <td>it'sa me</td>\n",
       "      <td>Forest Life</td>\n",
       "      <td>Simple</td>\n",
       "      <td>Simple</td>\n",
       "      <td>Red</td>\n",
       "      <td>Blue</td>\n",
       "      <td>yellow playroom wall</td>\n",
       "      <td>green honeycomb tile</td>\n",
       "      <td>4763;3205;3701;1557;3623;85;3208;3584;4761;121...</td>\n",
       "      <td>crd00</td>\n",
       "      <td>REpd8KxB8p9aGBRSE</td>\n",
       "    </tr>\n",
       "  </tbody>\n",
       "</table>\n",
       "</div>"
      ],
      "text/plain": [
       "      Name    Species  Gender Personality    Hobby Birthday Catchphrase  \\\n",
       "0  Admiral       Bird    Male      Cranky   Nature   27-Jan     aye aye   \n",
       "1  Agent S   Squirrel  Female       Peppy  Fitness    2-Jul    sidekick   \n",
       "2    Agnes        Pig  Female  Big Sister     Play   21-Apr     snuffle   \n",
       "3       Al    Gorilla    Male        Lazy  Fitness   18-Oct     ayyyeee   \n",
       "4  Alfonso  Alligator    Male        Lazy     Play    9-Jun    it'sa me   \n",
       "\n",
       "   Favorite Song Style 1  Style 2 Color 1 Color 2               Wallpaper  \\\n",
       "0     Steep Hill    Cool     Cool   Black    Blue          dirt-clod wall   \n",
       "1  Go K.K. Rider  Active   Simple    Blue   Black           concrete wall   \n",
       "2     K.K. House  Simple  Elegant    Pink   White  gray molded-panel wall   \n",
       "3  Go K.K. Rider  Active   Active     Red   White           concrete wall   \n",
       "4    Forest Life  Simple   Simple     Red    Blue    yellow playroom wall   \n",
       "\n",
       "                 Flooring                                     Furniture List  \\\n",
       "0                  tatami  717;1849;7047;2736;787;5970;3449;3622;3802;410...   \n",
       "1  colorful tile flooring  7845;7150;3468;4080;290;3971;3449;1708;4756;25...   \n",
       "2      arabesque flooring  4129;7236;7235;7802;896;3428;4027;7325;3958;71...   \n",
       "3   green rubber flooring  1452;4078;4013;833;4116;3697;7845;3307;3946;39...   \n",
       "4    green honeycomb tile  4763;3205;3701;1557;3623;85;3208;3584;4761;121...   \n",
       "\n",
       "  Filename    Unique Entry ID  \n",
       "0    brd06  B3RyfNEqwGmcccRC3  \n",
       "1    squ05  SGMdki6dzpDZyXAw5  \n",
       "2    pig17  jzWCiDPm9MqtCfecP  \n",
       "3    gor08  LBifxETQJGEaLhBjC  \n",
       "4    crd00  REpd8KxB8p9aGBRSE  "
      ]
     },
     "execution_count": 3,
     "metadata": {},
     "output_type": "execute_result"
    }
   ],
   "source": [
    "acnh_villagers.head()"
   ]
  },
  {
   "cell_type": "code",
   "execution_count": 4,
   "id": "27e0f964",
   "metadata": {},
   "outputs": [],
   "source": [
    "Villagers_list = acnh_villagers['Name'].to_list()"
   ]
  },
  {
   "cell_type": "code",
   "execution_count": 5,
   "id": "90b13f8c",
   "metadata": {},
   "outputs": [],
   "source": [
    "#uncomment to see all the names\n",
    "#Villagers_list"
   ]
  },
  {
   "cell_type": "code",
   "execution_count": 6,
   "id": "c6bf043b",
   "metadata": {},
   "outputs": [],
   "source": [
    "villagers = []\n",
    "for item in Villagers_list:\n",
    "    item = item + \" Animal Crossing\"\n",
    "    villagers.append(item)"
   ]
  },
  {
   "cell_type": "code",
   "execution_count": 7,
   "id": "c91e457e",
   "metadata": {},
   "outputs": [
    {
     "name": "stdout",
     "output_type": "stream",
     "text": [
      "391\n"
     ]
    }
   ],
   "source": [
    "print(len(villagers))"
   ]
  },
  {
   "cell_type": "code",
   "execution_count": 8,
   "id": "e2365f07",
   "metadata": {},
   "outputs": [
    {
     "name": "stdout",
     "output_type": "stream",
     "text": [
      "391\n"
     ]
    }
   ],
   "source": [
    "print(len(Villagers_list))"
   ]
  },
  {
   "cell_type": "code",
   "execution_count": 9,
   "id": "ordinary-oasis",
   "metadata": {},
   "outputs": [],
   "source": [
    "acnh_villagers_two=[\"OHare Animal Crossing\" if x==\"O'Hare Animal Crossing\" else x for x in villagers]"
   ]
  },
  {
   "cell_type": "code",
   "execution_count": 10,
   "id": "built-canadian",
   "metadata": {},
   "outputs": [],
   "source": [
    "#uncomment to see the new items in list of villager name + Animal Crossing\n",
    "#acnh_villagers_two"
   ]
  },
  {
   "cell_type": "code",
   "execution_count": 11,
   "id": "9b80493e",
   "metadata": {},
   "outputs": [],
   "source": [
    "kw_list = acnh_villagers_two"
   ]
  },
  {
   "cell_type": "code",
   "execution_count": 12,
   "id": "8ba83603",
   "metadata": {},
   "outputs": [],
   "source": [
    "trends = dict()\n",
    "for i in kw_list:\n",
    "   ##build out query\n",
    "   pytrend.build_payload([i],timeframe='2020-03-20 2021-11-24')\n",
    "   \n",
    "   ##save trend to dictionary\n",
    "   trends[i] = pytrend.related_queries()[i]\n"
   ]
  },
  {
   "cell_type": "code",
   "execution_count": 13,
   "id": "75bb0cd7",
   "metadata": {},
   "outputs": [],
   "source": [
    "acnh_df = dict()"
   ]
  },
  {
   "cell_type": "code",
   "execution_count": 14,
   "id": "69140b9f",
   "metadata": {},
   "outputs": [],
   "source": [
    "for item in acnh_villagers_two:\n",
    "    i = trends[item]['rising']\n",
    "    acnh_df.update({item:i})\n",
    "    #print(item)\n",
    "    #print(i)"
   ]
  },
  {
   "cell_type": "code",
   "execution_count": 16,
   "id": "499d5f78",
   "metadata": {},
   "outputs": [],
   "source": [
    "#uncomment to see full dictionary of dataframes\n",
    "#acnh_df"
   ]
  },
  {
   "cell_type": "code",
   "execution_count": 17,
   "id": "c926c30f",
   "metadata": {},
   "outputs": [],
   "source": [
    "import numpy as np"
   ]
  },
  {
   "cell_type": "code",
   "execution_count": 18,
   "id": "ed444f8c",
   "metadata": {},
   "outputs": [],
   "source": [
    "dict_list = []\n",
    "#dict_none = pd.DataFrame({\"query\":[np.nan],\"value\":[np.nan]})\n",
    "for key,value in acnh_df.items():\n",
    "    if type(value) == pd.DataFrame:\n",
    "        value['searchitem'] = key\n",
    "        dict_list.append(value)\n",
    "    else:\n",
    "        dict_none = pd.DataFrame({\"query\":[np.nan],\"value\":[np.nan]})\n",
    "        dict_none['searchitem'] = key\n",
    "        dict_list.append(dict_none)\n",
    "    "
   ]
  },
  {
   "cell_type": "code",
   "execution_count": 20,
   "id": "2704274e",
   "metadata": {},
   "outputs": [],
   "source": [
    "#uncomment to see dict of df's to converted list\n",
    "#dict_list"
   ]
  },
  {
   "cell_type": "code",
   "execution_count": 21,
   "id": "172c1bfc",
   "metadata": {},
   "outputs": [],
   "source": [
    "finalVillagerdf = pd.concat(dict_list, ignore_index = True)"
   ]
  },
  {
   "cell_type": "code",
   "execution_count": 22,
   "id": "69f4e730",
   "metadata": {},
   "outputs": [
    {
     "data": {
      "text/html": [
       "<div>\n",
       "<style scoped>\n",
       "    .dataframe tbody tr th:only-of-type {\n",
       "        vertical-align: middle;\n",
       "    }\n",
       "\n",
       "    .dataframe tbody tr th {\n",
       "        vertical-align: top;\n",
       "    }\n",
       "\n",
       "    .dataframe thead th {\n",
       "        text-align: right;\n",
       "    }\n",
       "</style>\n",
       "<table border=\"1\" class=\"dataframe\">\n",
       "  <thead>\n",
       "    <tr style=\"text-align: right;\">\n",
       "      <th></th>\n",
       "      <th>query</th>\n",
       "      <th>value</th>\n",
       "      <th>searchitem</th>\n",
       "    </tr>\n",
       "  </thead>\n",
       "  <tbody>\n",
       "    <tr>\n",
       "      <th>0</th>\n",
       "      <td>admiral animal crossing new horizons</td>\n",
       "      <td>275000.0</td>\n",
       "      <td>Admiral Animal Crossing</td>\n",
       "    </tr>\n",
       "    <tr>\n",
       "      <th>1</th>\n",
       "      <td>NaN</td>\n",
       "      <td>NaN</td>\n",
       "      <td>Agent S Animal Crossing</td>\n",
       "    </tr>\n",
       "    <tr>\n",
       "      <th>2</th>\n",
       "      <td>agnes house animal crossing</td>\n",
       "      <td>192200.0</td>\n",
       "      <td>Agnes Animal Crossing</td>\n",
       "    </tr>\n",
       "    <tr>\n",
       "      <th>3</th>\n",
       "      <td>animal crossing new horizons</td>\n",
       "      <td>803350.0</td>\n",
       "      <td>Al Animal Crossing</td>\n",
       "    </tr>\n",
       "    <tr>\n",
       "      <th>4</th>\n",
       "      <td>al animal crossing new horizons</td>\n",
       "      <td>764400.0</td>\n",
       "      <td>Al Animal Crossing</td>\n",
       "    </tr>\n",
       "  </tbody>\n",
       "</table>\n",
       "</div>"
      ],
      "text/plain": [
       "                                  query     value               searchitem\n",
       "0  admiral animal crossing new horizons  275000.0  Admiral Animal Crossing\n",
       "1                                   NaN       NaN  Agent S Animal Crossing\n",
       "2           agnes house animal crossing  192200.0    Agnes Animal Crossing\n",
       "3          animal crossing new horizons  803350.0       Al Animal Crossing\n",
       "4       al animal crossing new horizons  764400.0       Al Animal Crossing"
      ]
     },
     "execution_count": 22,
     "metadata": {},
     "output_type": "execute_result"
    }
   ],
   "source": [
    "finalVillagerdf.head()"
   ]
  },
  {
   "cell_type": "code",
   "execution_count": 23,
   "id": "318a7170",
   "metadata": {},
   "outputs": [],
   "source": [
    "finalVillagerdf.to_csv(\"final_villager_list_v2.csv\",index = False)"
   ]
  },
  {
   "cell_type": "code",
   "execution_count": 24,
   "id": "aea01640",
   "metadata": {},
   "outputs": [],
   "source": [
    "#checking the type for the dictionary values in acnh_df\n",
    "#UNCOMMENT - to see that they actually were df's\n",
    "#for v in acnh_df.values():\n",
    "    #print(type(v))"
   ]
  },
  {
   "cell_type": "code",
   "execution_count": null,
   "id": "0ac68164",
   "metadata": {},
   "outputs": [],
   "source": []
  }
 ],
 "metadata": {
  "kernelspec": {
   "display_name": "Python 3 (ipykernel)",
   "language": "python",
   "name": "python3"
  },
  "language_info": {
   "codemirror_mode": {
    "name": "ipython",
    "version": 3
   },
   "file_extension": ".py",
   "mimetype": "text/x-python",
   "name": "python",
   "nbconvert_exporter": "python",
   "pygments_lexer": "ipython3",
   "version": "3.9.8"
  }
 },
 "nbformat": 4,
 "nbformat_minor": 5
}
